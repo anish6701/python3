{
 "cells": [
  {
   "cell_type": "code",
   "execution_count": 5,
   "metadata": {
    "scrolled": true
   },
   "outputs": [
    {
     "name": "stdout",
     "output_type": "stream",
     "text": [
      "   PassengerId  Survived  Pclass  \\\n",
      "0            1         0       3   \n",
      "1            2         1       1   \n",
      "2            3         1       3   \n",
      "3            4         1       1   \n",
      "4            5         0       3   \n",
      "\n",
      "                                                Name     Sex   Age  SibSp  \\\n",
      "0                            Braund, Mr. Owen Harris    male   NaN      1   \n",
      "1  Cumings, Mrs. John Bradley (Florence Briggs Th...  female  38.0      1   \n",
      "2                             Heikkinen, Miss. Laina  female  26.0      0   \n",
      "3       Futrelle, Mrs. Jacques Heath (Lily May Peel)  female  35.0      1   \n",
      "4                           Allen, Mr. William Henry    male  35.0      0   \n",
      "\n",
      "   Parch            Ticket     Fare Cabin Embarked  \n",
      "0      0         A/5 21171   7.2500   C84        S  \n",
      "1      0          PC 17599  71.2833   C85        C  \n",
      "2      0  STON/O2. 3101282   7.9250   C86        S  \n",
      "3      0            113803  53.1000  C123        S  \n",
      "4      0            373450   8.0500  C124        S  \n"
     ]
    }
   ],
   "source": [
    "import pandas as pd\n",
    "import matplotlib.pyplot as plt\n",
    "df = pd.read_csv('/Users/mac/Downloads/titanic.csv')\n",
    "print(df.head())"
   ]
  },
  {
   "cell_type": "code",
   "execution_count": 4,
   "metadata": {},
   "outputs": [
    {
     "name": "stdout",
     "output_type": "stream",
     "text": [
      "Index(['PassengerId', 'Survived', 'Pclass', 'Name', 'Sex', 'Age', 'SibSp',\n",
      "       'Parch', 'Ticket', 'Fare', 'Cabin', 'Embarked'],\n",
      "      dtype='object')\n"
     ]
    }
   ],
   "source": [
    "print(df.columns)"
   ]
  },
  {
   "cell_type": "markdown",
   "metadata": {},
   "source": [
    "# Getting the details of the missing values"
   ]
  },
  {
   "cell_type": "code",
   "execution_count": 17,
   "metadata": {},
   "outputs": [
    {
     "name": "stdout",
     "output_type": "stream",
     "text": [
      "Null value in column : Age  Null value in row:  2\n",
      "Null value in column : Age  Null value in row:  7\n",
      "Null value in column : Age  Null value in row:  19\n",
      "Null value in column : Age  Null value in row:  21\n",
      "Null value in column : Age  Null value in row:  28\n",
      "Null value in column : Age  Null value in row:  30\n",
      "Null value in column : Age  Null value in row:  31\n",
      "Null value in column : Age  Null value in row:  33\n",
      "Null value in column : Age  Null value in row:  34\n",
      "Null value in column : Age  Null value in row:  38\n",
      "Null value in column : Age  Null value in row:  44\n",
      "Null value in column : Age  Null value in row:  47\n",
      "Null value in column : Age  Null value in row:  48\n",
      "Null value in column : Age  Null value in row:  49\n",
      "Null value in column : Age  Null value in row:  50\n",
      "Null value in column : Age  Null value in row:  57\n",
      "Null value in column : Age  Null value in row:  66\n",
      "Null value in column : Age  Null value in row:  67\n",
      "Null value in column : Age  Null value in row:  78\n",
      "Null value in column : Age  Null value in row:  79\n",
      "Null value in column : Age  Null value in row:  84\n",
      "Null value in column : Age  Null value in row:  89\n",
      "Null value in column : Age  Null value in row:  97\n",
      "Null value in column : Age  Null value in row:  103\n",
      "Null value in column : Age  Null value in row:  109\n",
      "Null value in column : Age  Null value in row:  111\n",
      "Null value in column : Age  Null value in row:  123\n",
      "Null value in column : Age  Null value in row:  128\n",
      "Null value in column : Age  Null value in row:  130\n",
      "Null value in column : Age  Null value in row:  142\n",
      "Null value in column : Age  Null value in row:  156\n",
      "Null value in column : Age  Null value in row:  160\n",
      "Null value in column : Age  Null value in row:  161\n",
      "Null value in column : Age  Null value in row:  168\n",
      "Null value in column : Age  Null value in row:  170\n",
      "Null value in column : Age  Null value in row:  178\n",
      "Null value in column : Age  Null value in row:  182\n",
      "Null value in column : Age  Null value in row:  183\n",
      "Null value in column : Age  Null value in row:  187\n",
      "Null value in column : Age  Null value in row:  188\n",
      "Null value in column : Age  Null value in row:  198\n",
      "Null value in column : Age  Null value in row:  200\n",
      "Null value in column : Age  Null value in row:  203\n",
      "Null value in column : Age  Null value in row:  216\n",
      "Null value in column : Age  Null value in row:  225\n",
      "Null value in column : Age  Null value in row:  231\n",
      "Null value in column : Age  Null value in row:  237\n",
      "Null value in column : Age  Null value in row:  242\n",
      "Null value in column : Age  Null value in row:  243\n",
      "Null value in column : Age  Null value in row:  252\n",
      "Null value in column : Age  Null value in row:  258\n",
      "Null value in column : Age  Null value in row:  262\n",
      "Null value in column : Age  Null value in row:  266\n",
      "Null value in column : Age  Null value in row:  272\n",
      "Null value in column : Age  Null value in row:  276\n",
      "Null value in column : Age  Null value in row:  279\n",
      "Null value in column : Age  Null value in row:  286\n",
      "Null value in column : Age  Null value in row:  297\n",
      "Null value in column : Age  Null value in row:  300\n",
      "Null value in column : Age  Null value in row:  302\n",
      "Null value in column : Age  Null value in row:  303\n",
      "Null value in column : Age  Null value in row:  305\n",
      "Null value in column : Age  Null value in row:  306\n",
      "Null value in column : Age  Null value in row:  308\n",
      "Null value in column : Age  Null value in row:  326\n",
      "Null value in column : Age  Null value in row:  332\n",
      "Null value in column : Age  Null value in row:  336\n",
      "Null value in column : Age  Null value in row:  337\n",
      "Null value in column : Age  Null value in row:  349\n",
      "Null value in column : Age  Null value in row:  353\n",
      "Null value in column : Age  Null value in row:  356\n",
      "Null value in column : Age  Null value in row:  360\n",
      "Null value in column : Age  Null value in row:  361\n",
      "Null value in column : Age  Null value in row:  366\n",
      "Null value in column : Age  Null value in row:  369\n",
      "Null value in column : Age  Null value in row:  370\n",
      "Null value in column : Age  Null value in row:  377\n",
      "Null value in column : Age  Null value in row:  386\n",
      "Null value in column : Age  Null value in row:  390\n",
      "Null value in column : Age  Null value in row:  411\n",
      "Null value in column : Age  Null value in row:  412\n",
      "Null value in column : Age  Null value in row:  413\n",
      "Null value in column : Age  Null value in row:  415\n",
      "Null value in column : Age  Null value in row:  417\n",
      "Null value in column : Age  Null value in row:  422\n",
      "Null value in column : Age  Null value in row:  427\n",
      "Null value in column : Age  Null value in row:  430\n",
      "Null value in column : Age  Null value in row:  433\n",
      "Null value in column : Age  Null value in row:  446\n",
      "Null value in column : Age  Null value in row:  453\n",
      "Null value in column : Age  Null value in row:  456\n",
      "Null value in column : Age  Null value in row:  459\n",
      "Null value in column : Age  Null value in row:  461\n",
      "Null value in column : Age  Null value in row:  466\n",
      "Null value in column : Age  Null value in row:  468\n",
      "Null value in column : Age  Null value in row:  470\n",
      "Null value in column : Age  Null value in row:  472\n",
      "Null value in column : Age  Null value in row:  477\n",
      "Null value in column : Age  Null value in row:  483\n",
      "Null value in column : Age  Null value in row:  487\n",
      "Null value in column : Age  Null value in row:  492\n",
      "Null value in column : Age  Null value in row:  497\n",
      "Null value in column : Age  Null value in row:  499\n",
      "Null value in column : Age  Null value in row:  504\n",
      "Null value in column : Age  Null value in row:  509\n",
      "Null value in column : Age  Null value in row:  513\n",
      "Null value in column : Age  Null value in row:  519\n",
      "Null value in column : Age  Null value in row:  524\n",
      "Null value in column : Age  Null value in row:  526\n",
      "Null value in column : Age  Null value in row:  529\n",
      "Null value in column : Age  Null value in row:  533\n",
      "Null value in column : Age  Null value in row:  535\n",
      "Null value in column : Age  Null value in row:  540\n",
      "Null value in column : Age  Null value in row:  549\n",
      "Null value in column : Age  Null value in row:  554\n",
      "Null value in column : Age  Null value in row:  559\n",
      "Null value in column : Age  Null value in row:  562\n",
      "Null value in column : Age  Null value in row:  565\n",
      "Null value in column : Age  Null value in row:  566\n",
      "Null value in column : Age  Null value in row:  570\n",
      "Null value in column : Age  Null value in row:  575\n",
      "Null value in column : Age  Null value in row:  580\n",
      "Null value in column : Age  Null value in row:  586\n",
      "Null value in column : Age  Null value in row:  591\n",
      "Null value in column : Age  Null value in row:  595\n",
      "Null value in column : Age  Null value in row:  598\n",
      "Null value in column : Age  Null value in row:  600\n",
      "Null value in column : Age  Null value in row:  603\n",
      "Null value in column : Age  Null value in row:  604\n",
      "Null value in column : Age  Null value in row:  613\n",
      "Null value in column : Age  Null value in row:  614\n",
      "Null value in column : Age  Null value in row:  615\n",
      "Null value in column : Age  Null value in row:  631\n",
      "Null value in column : Age  Null value in row:  635\n",
      "Null value in column : Age  Null value in row:  641\n",
      "Null value in column : Age  Null value in row:  645\n",
      "Null value in column : Age  Null value in row:  650\n",
      "Null value in column : Age  Null value in row:  652\n",
      "Null value in column : Age  Null value in row:  655\n",
      "Null value in column : Age  Null value in row:  658\n",
      "Null value in column : Age  Null value in row:  669\n",
      "Null value in column : Age  Null value in row:  671\n",
      "Null value in column : Age  Null value in row:  676\n",
      "Null value in column : Age  Null value in row:  682\n",
      "Null value in column : Age  Null value in row:  694\n",
      "Null value in column : Age  Null value in row:  699\n",
      "Null value in column : Age  Null value in row:  711\n",
      "Null value in column : Age  Null value in row:  713\n",
      "Null value in column : Age  Null value in row:  720\n",
      "Null value in column : Age  Null value in row:  729\n",
      "Null value in column : Age  Null value in row:  734\n",
      "Null value in column : Age  Null value in row:  740\n",
      "Null value in column : Age  Null value in row:  741\n",
      "Null value in column : Age  Null value in row:  742\n",
      "Null value in column : Age  Null value in row:  770\n",
      "Null value in column : Age  Null value in row:  775\n",
      "Null value in column : Age  Null value in row:  778\n",
      "Null value in column : Age  Null value in row:  780\n",
      "Null value in column : Age  Null value in row:  785\n",
      "Null value in column : Age  Null value in row:  792\n",
      "Null value in column : Age  Null value in row:  794\n",
      "Null value in column : Age  Null value in row:  795\n",
      "Null value in column : Age  Null value in row:  817\n",
      "Null value in column : Age  Null value in row:  827\n",
      "Null value in column : Age  Null value in row:  828\n",
      "Null value in column : Age  Null value in row:  830\n",
      "Null value in column : Age  Null value in row:  834\n",
      "Null value in column : Age  Null value in row:  839\n",
      "Null value in column : Age  Null value in row:  841\n",
      "Null value in column : Age  Null value in row:  848\n",
      "Null value in column : Age  Null value in row:  851\n",
      "Null value in column : Age  Null value in row:  861\n",
      "Null value in column : Age  Null value in row:  865\n",
      "Null value in column : Age  Null value in row:  870\n",
      "Null value in column : Age  Null value in row:  880\n",
      "Null value in column : Age  Null value in row:  890\n"
     ]
    }
   ],
   "source": [
    "nul_column=0\n",
    "sum=0\n",
    "leng = len(df[\"Name\"])\n",
    "#finding the missing values\n",
    "\n",
    "for col in list(df.columns.values):\n",
    "    for j in range(leng):\n",
    "        if pd.isnull(df[col][j]):\n",
    "            print(\"Null value in column :\", col, \" Null value in row: \",j+2)\n",
    "            \n",
    "nul_column = nul_column+1"
   ]
  },
  {
   "cell_type": "markdown",
   "metadata": {},
   "source": [
    "# Filling the column age with average age of the column \"AGE\""
   ]
  },
  {
   "cell_type": "code",
   "execution_count": 19,
   "metadata": {},
   "outputs": [
    {
     "name": "stdout",
     "output_type": "stream",
     "text": [
      "   PassengerId  Survived  Pclass  \\\n",
      "0            1         0       3   \n",
      "1            2         1       1   \n",
      "2            3         1       3   \n",
      "3            4         1       1   \n",
      "4            5         0       3   \n",
      "\n",
      "                                                Name     Sex Age  SibSp  \\\n",
      "0                            Braund, Mr. Owen Harris    male  23      1   \n",
      "1  Cumings, Mrs. John Bradley (Florence Briggs Th...  female  38      1   \n",
      "2                             Heikkinen, Miss. Laina  female  26      0   \n",
      "3       Futrelle, Mrs. Jacques Heath (Lily May Peel)  female  35      1   \n",
      "4                           Allen, Mr. William Henry    male  35      0   \n",
      "\n",
      "   Parch            Ticket     Fare Cabin Embarked  \n",
      "0      0         A/5 21171   7.2500   C84        S  \n",
      "1      0          PC 17599  71.2833   C85        C  \n",
      "2      0  STON/O2. 3101282   7.9250   C86        S  \n",
      "3      0            113803  53.1000  C123        S  \n",
      "4      0            373450   8.0500  C124        S  \n"
     ]
    }
   ],
   "source": [
    "for i in range(leng):\n",
    "    if pd.isnull(df[\"Age\"][i]):\n",
    "        continue\n",
    "    else:\n",
    "        sum=sum+int(df[\"Age\"][i])\n",
    "\n",
    "avg_age= int (sum/(leng-nul_column))\n",
    "df[\"Age\"]=df[\"Age\"].fillna(str(avg_age))\n",
    "\n",
    "print(df.head())"
   ]
  },
  {
   "cell_type": "markdown",
   "metadata": {},
   "source": [
    "# Checking the data for missing values"
   ]
  },
  {
   "cell_type": "code",
   "execution_count": 20,
   "metadata": {},
   "outputs": [
    {
     "name": "stdout",
     "output_type": "stream",
     "text": [
      "     PassengerId  Survived  Pclass   Name    Sex    Age  SibSp  Parch  Ticket  \\\n",
      "0          False     False   False  False  False  False  False  False   False   \n",
      "1          False     False   False  False  False  False  False  False   False   \n",
      "2          False     False   False  False  False  False  False  False   False   \n",
      "3          False     False   False  False  False  False  False  False   False   \n",
      "4          False     False   False  False  False  False  False  False   False   \n",
      "..           ...       ...     ...    ...    ...    ...    ...    ...     ...   \n",
      "886        False     False   False  False  False  False  False  False   False   \n",
      "887        False     False   False  False  False  False  False  False   False   \n",
      "888        False     False   False  False  False  False  False  False   False   \n",
      "889        False     False   False  False  False  False  False  False   False   \n",
      "890        False     False   False  False  False  False  False  False   False   \n",
      "\n",
      "      Fare  Cabin  Embarked  \n",
      "0    False  False     False  \n",
      "1    False  False     False  \n",
      "2    False  False     False  \n",
      "3    False  False     False  \n",
      "4    False  False     False  \n",
      "..     ...    ...       ...  \n",
      "886  False  False     False  \n",
      "887  False  False     False  \n",
      "888  False  False     False  \n",
      "889  False  False     False  \n",
      "890  False  False     False  \n",
      "\n",
      "[891 rows x 12 columns]\n"
     ]
    }
   ],
   "source": [
    "print(df.isnull())"
   ]
  },
  {
   "cell_type": "markdown",
   "metadata": {},
   "source": [
    "# Dropping the duplicates values"
   ]
  },
  {
   "cell_type": "code",
   "execution_count": 21,
   "metadata": {},
   "outputs": [
    {
     "data": {
      "text/html": [
       "<div>\n",
       "<style scoped>\n",
       "    .dataframe tbody tr th:only-of-type {\n",
       "        vertical-align: middle;\n",
       "    }\n",
       "\n",
       "    .dataframe tbody tr th {\n",
       "        vertical-align: top;\n",
       "    }\n",
       "\n",
       "    .dataframe thead th {\n",
       "        text-align: right;\n",
       "    }\n",
       "</style>\n",
       "<table border=\"1\" class=\"dataframe\">\n",
       "  <thead>\n",
       "    <tr style=\"text-align: right;\">\n",
       "      <th></th>\n",
       "      <th>PassengerId</th>\n",
       "      <th>Survived</th>\n",
       "      <th>Pclass</th>\n",
       "      <th>Name</th>\n",
       "      <th>Sex</th>\n",
       "      <th>Age</th>\n",
       "      <th>SibSp</th>\n",
       "      <th>Parch</th>\n",
       "      <th>Ticket</th>\n",
       "      <th>Fare</th>\n",
       "      <th>Cabin</th>\n",
       "      <th>Embarked</th>\n",
       "    </tr>\n",
       "  </thead>\n",
       "  <tbody>\n",
       "    <tr>\n",
       "      <th>0</th>\n",
       "      <td>1</td>\n",
       "      <td>0</td>\n",
       "      <td>3</td>\n",
       "      <td>Braund, Mr. Owen Harris</td>\n",
       "      <td>male</td>\n",
       "      <td>23</td>\n",
       "      <td>1</td>\n",
       "      <td>0</td>\n",
       "      <td>A/5 21171</td>\n",
       "      <td>7.2500</td>\n",
       "      <td>C84</td>\n",
       "      <td>S</td>\n",
       "    </tr>\n",
       "    <tr>\n",
       "      <th>1</th>\n",
       "      <td>2</td>\n",
       "      <td>1</td>\n",
       "      <td>1</td>\n",
       "      <td>Cumings, Mrs. John Bradley (Florence Briggs Th...</td>\n",
       "      <td>female</td>\n",
       "      <td>38</td>\n",
       "      <td>1</td>\n",
       "      <td>0</td>\n",
       "      <td>PC 17599</td>\n",
       "      <td>71.2833</td>\n",
       "      <td>C85</td>\n",
       "      <td>C</td>\n",
       "    </tr>\n",
       "    <tr>\n",
       "      <th>2</th>\n",
       "      <td>3</td>\n",
       "      <td>1</td>\n",
       "      <td>3</td>\n",
       "      <td>Heikkinen, Miss. Laina</td>\n",
       "      <td>female</td>\n",
       "      <td>26</td>\n",
       "      <td>0</td>\n",
       "      <td>0</td>\n",
       "      <td>STON/O2. 3101282</td>\n",
       "      <td>7.9250</td>\n",
       "      <td>C86</td>\n",
       "      <td>S</td>\n",
       "    </tr>\n",
       "    <tr>\n",
       "      <th>3</th>\n",
       "      <td>4</td>\n",
       "      <td>1</td>\n",
       "      <td>1</td>\n",
       "      <td>Futrelle, Mrs. Jacques Heath (Lily May Peel)</td>\n",
       "      <td>female</td>\n",
       "      <td>35</td>\n",
       "      <td>1</td>\n",
       "      <td>0</td>\n",
       "      <td>113803</td>\n",
       "      <td>53.1000</td>\n",
       "      <td>C123</td>\n",
       "      <td>S</td>\n",
       "    </tr>\n",
       "    <tr>\n",
       "      <th>4</th>\n",
       "      <td>5</td>\n",
       "      <td>0</td>\n",
       "      <td>3</td>\n",
       "      <td>Allen, Mr. William Henry</td>\n",
       "      <td>male</td>\n",
       "      <td>35</td>\n",
       "      <td>0</td>\n",
       "      <td>0</td>\n",
       "      <td>373450</td>\n",
       "      <td>8.0500</td>\n",
       "      <td>C124</td>\n",
       "      <td>S</td>\n",
       "    </tr>\n",
       "    <tr>\n",
       "      <th>...</th>\n",
       "      <td>...</td>\n",
       "      <td>...</td>\n",
       "      <td>...</td>\n",
       "      <td>...</td>\n",
       "      <td>...</td>\n",
       "      <td>...</td>\n",
       "      <td>...</td>\n",
       "      <td>...</td>\n",
       "      <td>...</td>\n",
       "      <td>...</td>\n",
       "      <td>...</td>\n",
       "      <td>...</td>\n",
       "    </tr>\n",
       "    <tr>\n",
       "      <th>886</th>\n",
       "      <td>887</td>\n",
       "      <td>0</td>\n",
       "      <td>2</td>\n",
       "      <td>Montvila, Rev. Juozas</td>\n",
       "      <td>male</td>\n",
       "      <td>27</td>\n",
       "      <td>0</td>\n",
       "      <td>0</td>\n",
       "      <td>211536</td>\n",
       "      <td>13.0000</td>\n",
       "      <td>C57</td>\n",
       "      <td>S</td>\n",
       "    </tr>\n",
       "    <tr>\n",
       "      <th>887</th>\n",
       "      <td>888</td>\n",
       "      <td>1</td>\n",
       "      <td>1</td>\n",
       "      <td>Graham, Miss. Margaret Edith</td>\n",
       "      <td>female</td>\n",
       "      <td>19</td>\n",
       "      <td>0</td>\n",
       "      <td>0</td>\n",
       "      <td>112053</td>\n",
       "      <td>30.0000</td>\n",
       "      <td>B42</td>\n",
       "      <td>S</td>\n",
       "    </tr>\n",
       "    <tr>\n",
       "      <th>888</th>\n",
       "      <td>889</td>\n",
       "      <td>0</td>\n",
       "      <td>3</td>\n",
       "      <td>Johnston, Miss. Catherine Helen \"Carrie\"</td>\n",
       "      <td>female</td>\n",
       "      <td>23</td>\n",
       "      <td>1</td>\n",
       "      <td>2</td>\n",
       "      <td>W./C. 6607</td>\n",
       "      <td>23.4500</td>\n",
       "      <td>B43</td>\n",
       "      <td>S</td>\n",
       "    </tr>\n",
       "    <tr>\n",
       "      <th>889</th>\n",
       "      <td>890</td>\n",
       "      <td>1</td>\n",
       "      <td>1</td>\n",
       "      <td>Behr, Mr. Karl Howell</td>\n",
       "      <td>male</td>\n",
       "      <td>26</td>\n",
       "      <td>0</td>\n",
       "      <td>0</td>\n",
       "      <td>111369</td>\n",
       "      <td>30.0000</td>\n",
       "      <td>C148</td>\n",
       "      <td>C</td>\n",
       "    </tr>\n",
       "    <tr>\n",
       "      <th>890</th>\n",
       "      <td>891</td>\n",
       "      <td>0</td>\n",
       "      <td>3</td>\n",
       "      <td>Dooley, Mr. Patrick</td>\n",
       "      <td>male</td>\n",
       "      <td>32</td>\n",
       "      <td>0</td>\n",
       "      <td>0</td>\n",
       "      <td>370376</td>\n",
       "      <td>7.7500</td>\n",
       "      <td>C149</td>\n",
       "      <td>Q</td>\n",
       "    </tr>\n",
       "  </tbody>\n",
       "</table>\n",
       "<p>891 rows × 12 columns</p>\n",
       "</div>"
      ],
      "text/plain": [
       "     PassengerId  Survived  Pclass  \\\n",
       "0              1         0       3   \n",
       "1              2         1       1   \n",
       "2              3         1       3   \n",
       "3              4         1       1   \n",
       "4              5         0       3   \n",
       "..           ...       ...     ...   \n",
       "886          887         0       2   \n",
       "887          888         1       1   \n",
       "888          889         0       3   \n",
       "889          890         1       1   \n",
       "890          891         0       3   \n",
       "\n",
       "                                                  Name     Sex Age  SibSp  \\\n",
       "0                              Braund, Mr. Owen Harris    male  23      1   \n",
       "1    Cumings, Mrs. John Bradley (Florence Briggs Th...  female  38      1   \n",
       "2                               Heikkinen, Miss. Laina  female  26      0   \n",
       "3         Futrelle, Mrs. Jacques Heath (Lily May Peel)  female  35      1   \n",
       "4                             Allen, Mr. William Henry    male  35      0   \n",
       "..                                                 ...     ...  ..    ...   \n",
       "886                              Montvila, Rev. Juozas    male  27      0   \n",
       "887                       Graham, Miss. Margaret Edith  female  19      0   \n",
       "888           Johnston, Miss. Catherine Helen \"Carrie\"  female  23      1   \n",
       "889                              Behr, Mr. Karl Howell    male  26      0   \n",
       "890                                Dooley, Mr. Patrick    male  32      0   \n",
       "\n",
       "     Parch            Ticket     Fare Cabin Embarked  \n",
       "0        0         A/5 21171   7.2500   C84        S  \n",
       "1        0          PC 17599  71.2833   C85        C  \n",
       "2        0  STON/O2. 3101282   7.9250   C86        S  \n",
       "3        0            113803  53.1000  C123        S  \n",
       "4        0            373450   8.0500  C124        S  \n",
       "..     ...               ...      ...   ...      ...  \n",
       "886      0            211536  13.0000   C57        S  \n",
       "887      0            112053  30.0000   B42        S  \n",
       "888      2        W./C. 6607  23.4500   B43        S  \n",
       "889      0            111369  30.0000  C148        C  \n",
       "890      0            370376   7.7500  C149        Q  \n",
       "\n",
       "[891 rows x 12 columns]"
      ]
     },
     "execution_count": 21,
     "metadata": {},
     "output_type": "execute_result"
    }
   ],
   "source": [
    "df.drop_duplicates()"
   ]
  },
  {
   "cell_type": "code",
   "execution_count": 26,
   "metadata": {},
   "outputs": [
    {
     "data": {
      "text/plain": [
       "PassengerId      int64\n",
       "Survived         int64\n",
       "Pclass           int64\n",
       "Name            object\n",
       "Sex             object\n",
       "Age             object\n",
       "SibSp            int64\n",
       "Parch            int64\n",
       "Ticket          object\n",
       "Fare           float64\n",
       "Cabin           object\n",
       "Embarked        object\n",
       "dtype: object"
      ]
     },
     "execution_count": 26,
     "metadata": {},
     "output_type": "execute_result"
    }
   ],
   "source": [
    "df.dtypes"
   ]
  },
  {
   "cell_type": "code",
   "execution_count": 31,
   "metadata": {},
   "outputs": [
    {
     "data": {
      "text/plain": [
       "[<matplotlib.lines.Line2D at 0x7fddd8093d60>]"
      ]
     },
     "execution_count": 31,
     "metadata": {},
     "output_type": "execute_result"
    },
    {
     "data": {
      "image/png": "[encoded data removed]",
      "text/plain": [
       "<Figure size 576x396 with 1 Axes>"
      ]
     },
     "metadata": {},
     "output_type": "display_data"
    }
   ],
   "source": [
    "plt.plot(df[\"PassengerId\"],df[\"Fare\"])"
   ]
  },
  {
   "cell_type": "code",
   "execution_count": 41,
   "metadata": {},
   "outputs": [],
   "source": [
    "df[\"Age\"]=df[\"Age\"].astype(object).astype(int)"
   ]
  },
  {
   "cell_type": "code",
   "execution_count": 42,
   "metadata": {},
   "outputs": [
    {
     "data": {
      "text/plain": [
       "PassengerId      int64\n",
       "Survived         int64\n",
       "Pclass           int64\n",
       "Name            object\n",
       "Sex             object\n",
       "Age              int64\n",
       "SibSp            int64\n",
       "Parch            int64\n",
       "Ticket          object\n",
       "Fare           float64\n",
       "Cabin           object\n",
       "Embarked        object\n",
       "dtype: object"
      ]
     },
     "execution_count": 42,
     "metadata": {},
     "output_type": "execute_result"
    }
   ],
   "source": [
    "df.dtypes"
   ]
  },
  {
   "cell_type": "code",
   "execution_count": 44,
   "metadata": {},
   "outputs": [
    {
     "data": {
      "text/plain": [
       "[<matplotlib.lines.Line2D at 0x7fdddc269f40>]"
      ]
     },
     "execution_count": 44,
     "metadata": {},
     "output_type": "execute_result"
    },
    {
     "data": {
      "image/png": "[encoded data removed]",
      "text/plain": [
       "<Figure size 576x396 with 1 Axes>"
      ]
     },
     "metadata": {},
     "output_type": "display_data"
    }
   ],
   "source": [
    "plt.plot(df[\"PassengerId\"],df[\"Age\"])"
   ]
  },
  {
   "cell_type": "code",
   "execution_count": null,
   "metadata": {},
   "outputs": [],
   "source": []
  }
 ],
 "metadata": {
  "kernelspec": {
   "display_name": "Python 3",
   "language": "python",
   "name": "python3"
  },
  "language_info": {
   "codemirror_mode": {
    "name": "ipython",
    "version": 3
   },
   "file_extension": ".py",
   "mimetype": "text/x-python",
   "name": "python",
   "nbconvert_exporter": "python",
   "pygments_lexer": "ipython3",
   "version": "3.8.5"
  }
 },
 "nbformat": 4,
 "nbformat_minor": 4
}
